{
 "cells": [
  {
   "cell_type": "markdown",
   "metadata": {},
   "source": [
    "# U.S. Medical Insurance Costs"
   ]
  },
  {
   "cell_type": "markdown",
   "metadata": {},
   "source": [
    "\n",
    "As the smoking is a practice that affects many people even young people and could have some health effects, is important to point out some aspects related with smoking and the cost of an insurance. \n",
    "\n",
    "According that the objective to achive is revelated some aspects of the life of smoker people based in the given information , so according with that the points to be checked are as follow:\n",
    "\n",
    "* Find out the average age of the smokers patients in the dataset.\n",
    "* Analyze where the most of the smokers are from.\n",
    "* Look at the different costs between smokers vs non-smokers average.\n",
    "* Discover if there a realtion between being a smoker and the BMI.\n",
    "\n",
    "The project is provided for  data that describes insurance cost depending diferents variables as age, sex, bmi, number of children, if the person is smoker or not, region. It counts with a poblation of 1338 persons.\n",
    "The Data is obtained from [Insurance Data](https://www.kaggle.com/mirichoi0218/insurance)."
   ]
  },
  {
   "cell_type": "markdown",
   "metadata": {},
   "source": [
    "***\n",
    "## Implementation Process\n",
    "### Importing libreries\n",
    "\n",
    "First at all, the necessaries libraries are going to be imported. In this particular project:\n",
    "\n",
    "* csv\n"
   ]
  },
  {
   "cell_type": "code",
   "execution_count": 1,
   "metadata": {},
   "outputs": [],
   "source": [
    "import csv"
   ]
  },
  {
   "cell_type": "markdown",
   "metadata": {},
   "source": [
    "### Importing data \n",
    "\n",
    "The data will be stored in lists object that lives inside a Class, the contrcutor is in charge of build one list for each of the filed inside de csv file:\n",
    "\n",
    "* age\n",
    "* sex\n",
    "* bmi\n",
    "* children\n",
    "* smoker\n",
    "* region\n",
    "* charges\n"
   ]
  },
  {
   "cell_type": "code",
   "execution_count": 11,
   "metadata": {},
   "outputs": [],
   "source": [
    "class Medata:\n",
    "    age = []\n",
    "    sex = []\n",
    "    bmi = []\n",
    "    children = []\n",
    "    smoker = []\n",
    "    region = []\n",
    "    charges = []\n",
    "    def __init__(self):\n",
    "        with open('insurance.csv', newline = '') as med_file:\n",
    "            med_dic = csv.DictReader(med_file)\n",
    "            for row in med_dic:\n",
    "                self.age.append(int(row['age']))\n",
    "                self.sex.append(row['sex'])\n",
    "                self.bmi.append(float(row['bmi']))\n",
    "                self.children.append(row['children'])\n",
    "                self.smoker.append(row['smoker'])\n",
    "                self.region.append(row['region'])\n",
    "                self.charges.append(float(row['charges']))"
   ]
  },
  {
   "cell_type": "markdown",
   "metadata": {},
   "source": [
    "#### Creating the class object\n",
    "\n",
    "In order to finnish the data importing a class object has to be defined, in this case the object is going to be  **country**"
   ]
  },
  {
   "cell_type": "code",
   "execution_count": 15,
   "metadata": {},
   "outputs": [],
   "source": [
    "country = Medata()\n"
   ]
  },
  {
   "cell_type": "markdown",
   "metadata": {},
   "source": [
    "***\n",
    "### Findings Answers\n",
    "#### Average age of the smokers patients\n",
    "\n",
    "To answer this question a function is defined as follows:"
   ]
  },
  {
   "cell_type": "code",
   "execution_count": 4,
   "metadata": {},
   "outputs": [
    {
     "name": "stdout",
     "output_type": "stream",
     "text": [
      "The average smoker age is 38.51459854014598\n"
     ]
    }
   ],
   "source": [
    "def average_age(country):\n",
    "    smoker_list = []\n",
    "    total_smoker = 0\n",
    "    for i in range(len(country.smoker)):\n",
    "        if country.smoker[i] == 'yes':\n",
    "            smoker_list.append(country.age[i])\n",
    "    for i in smoker_list:\n",
    "        total_smoker += i\n",
    "    average_smoker = total_smoker/len(smoker_list)\n",
    "    print('The average smoker age is {}'.format(average_smoker))\n",
    "# Calling the function\n",
    "average_age(country)"
   ]
  },
  {
   "cell_type": "markdown",
   "metadata": {},
   "source": [
    "According with the calculation the average smoker age is 38.51459854014598.\n",
    "\n",
    "#### Where the most of the smokers are from\n",
    "\n",
    "To answer this question a function is defined as follows:"
   ]
  },
  {
   "cell_type": "code",
   "execution_count": 5,
   "metadata": {},
   "outputs": [
    {
     "name": "stdout",
     "output_type": "stream",
     "text": [
      "The most of the smokers are in southeast\n"
     ]
    }
   ],
   "source": [
    "def mostsmoker(country):\n",
    "    smoker_list = []\n",
    "    for i in range(len(country.smoker)):\n",
    "        if country.smoker[i] == 'yes':\n",
    "            smoker_list.append(country.region[i])\n",
    "    northeast_smokers = smoker_list.count('northeast')\n",
    "    northwest_smokers = smoker_list.count('northwest')\n",
    "    southeast_smokers = smoker_list.count('southeast')\n",
    "    southwest_smokers = smoker_list.count('southwest')\n",
    "    if northeast_smokers >  northwest_smokers and northeast_smokers > southeast_smokers and northeast_smokers > southwest_smokers:\n",
    "        most_smokers = 'northeast'\n",
    "    elif northwest_smokers > southeast_smokers and northwest_smokers > southwest_smokers:\n",
    "        most_smokers = 'northwest'\n",
    "    elif southeast_smokers > southwest_smokers:\n",
    "        most_smokers = 'southeast'\n",
    "    else:\n",
    "        most_smokers = 'southwest'\n",
    "    print('The most of the smokers are in {}'.format(most_smokers))\n",
    "# Calling the function\n",
    "mostsmoker(country)\n",
    "    "
   ]
  },
  {
   "cell_type": "markdown",
   "metadata": {},
   "source": [
    "According with the calculation the most the smokers are in southeast.\n",
    "\n",
    "#### Different costs between smokers vs non-smokers\n",
    "\n",
    "To answer this question a function is defined as follows:\n"
   ]
  },
  {
   "cell_type": "code",
   "execution_count": null,
   "metadata": {},
   "outputs": [],
   "source": [
    "def difcost(country):\n",
    "    smoker_list = []\n",
    "    no_smoker_list = []\n",
    "    for i in range(len(country.smoker)):\n",
    "        if country.smoker[i] == 'yes':\n",
    "            smoker_list.append(country.charges[i])\n",
    "        else:\n",
    "            no_smoker_list.append(country.charges[i])\n",
    "    total_smoker = 0\n",
    "    no_total_smoker = 0\n",
    "    for i in smoker_list:\n",
    "        total_smoker += i\n",
    "    for i in no_smoker_list:\n",
    "        no_total_smoker += i\n",
    "    av_smoker = total_smoker/len(smoker_list)\n",
    "    av_no_smoker = no_total_smoker / len(no_smoker_list)\n",
    "    dif = av_smoker - av_no_smoker\n",
    "    if dif > 0:\n",
    "        print('The average insurance cost is bigger for smokers persons by {}'.format(abs(dif)))\n",
    "    elif dif == 0:\n",
    "        print('There is no differences between the insurance cost of smokers and non-smokers persons')\n",
    "    else:\n",
    "        print('The average insurance cost is bigger for non-smokers persons by {}'.format(abs(dif)))\n",
    "# Calling function\n",
    "difcost(country)"
   ]
  },
  {
   "cell_type": "markdown",
   "metadata": {},
   "source": [
    "According with the calculation an smoker person pay in average 23615.96353367665 more than a non-smoker person.\n",
    "\n",
    "#### Realtion between being a smoker and the BMI\n",
    "\n",
    "To answer this question a function is defined as follows:\n"
   ]
  },
  {
   "cell_type": "code",
   "execution_count": 16,
   "metadata": {},
   "outputs": [
    {
     "name": "stdout",
     "output_type": "stream",
     "text": [
      "In average the smoker person has an higher BMI\n"
     ]
    }
   ],
   "source": [
    "def smokerbmi(country):\n",
    "    total = 0\n",
    "    smoker_total = 0\n",
    "    smoker_list = []\n",
    "    for i in range(len(country.smoker)):\n",
    "        if country.smoker[i] == 'yes':\n",
    "            smoker_list.append(country.bmi[i])\n",
    "    for i in country.bmi:\n",
    "        total += i\n",
    "    for i in smoker_list:\n",
    "        smoker_total += i\n",
    "    av_total = total / len(country.smoker)\n",
    "    av_total_smoker = smoker_total / len(smoker_list)\n",
    "    dif = av_total_smoker - av_total\n",
    "    if dif > 0 :\n",
    "        print('In average the smoker person has an higher BMI')\n",
    "    elif dif == 0:\n",
    "        print('There is no differences between the BMI of smokers and non-smokers persons ')\n",
    "    else:\n",
    "        print('In average the non-smoker person has an higher BMI')\n",
    "#Calling the function\n",
    "smokerbmi(country)"
   ]
  },
  {
   "cell_type": "markdown",
   "metadata": {},
   "source": [
    "According with the calculation an smoker person has higher BMI.\n",
    "***\n",
    "## Conclusions\n",
    "\n",
    "After built the function and once the calcualtion have donde the conclusion are:\n",
    "\n",
    "* The average age of the smokers are 38.51, that means that for this poblation the smoker in young people should not be a problem.\n",
    "* The most of the smokers are from southeast, it is necesarie further information and analisys to find why it is.\n",
    "* A smoker person pay in average 23615.96353367665 more than a non-smoker person, normally smoking add risk to the health itself and as effect of it, the cost in insurance increase.\n",
    "* It seems that in average the smoker person has an higher BMI, however that does not mean that it is healhty risk indicator because an higher BMI depends of differents aspect that could vari in each person. So, BMI could be high for one person but good for another one. So, it is needed futher investagation including if BMI is higher, lower or healhty  for each person."
   ]
  }
 ],
 "metadata": {
  "kernelspec": {
   "display_name": "Python 3",
   "language": "python",
   "name": "python3"
  },
  "language_info": {
   "codemirror_mode": {
    "name": "ipython",
    "version": 3
   },
   "file_extension": ".py",
   "mimetype": "text/x-python",
   "name": "python",
   "nbconvert_exporter": "python",
   "pygments_lexer": "ipython3",
   "version": "3.7.3"
  }
 },
 "nbformat": 4,
 "nbformat_minor": 4
}
